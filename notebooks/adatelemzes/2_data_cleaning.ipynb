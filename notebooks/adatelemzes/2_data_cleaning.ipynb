{
 "cells": [
  {
   "cell_type": "code",
   "execution_count": 31,
   "metadata": {},
   "outputs": [],
   "source": [
    "import numpy as np\n",
    "import seaborn as sns\n",
    "import pandas as pd\n",
    "import matplotlib.pyplot as plt"
   ]
  },
  {
   "cell_type": "code",
   "execution_count": 32,
   "metadata": {},
   "outputs": [],
   "source": [
    "data = pd.read_csv(\"hotel_bookings.csv\")"
   ]
  },
  {
   "cell_type": "markdown",
   "metadata": {},
   "source": [
    "Melyik oszlop hány százalékben található null érték"
   ]
  },
  {
   "cell_type": "code",
   "execution_count": 33,
   "metadata": {},
   "outputs": [
    {
     "data": {
      "text/plain": [
       "hotel                             0.000000\n",
       "is_canceled                       0.000000\n",
       "lead_time                         0.000000\n",
       "arrival_date_year                 0.000000\n",
       "arrival_date_month                0.000000\n",
       "arrival_date_week_number          0.000000\n",
       "arrival_date_day_of_month         0.000000\n",
       "stays_in_weekend_nights           0.000000\n",
       "stays_in_week_nights              0.000000\n",
       "adults                            0.000000\n",
       "children                          0.000034\n",
       "babies                            0.000000\n",
       "meal                              0.000000\n",
       "country                           0.004087\n",
       "market_segment                    0.000000\n",
       "distribution_channel              0.000000\n",
       "is_repeated_guest                 0.000000\n",
       "previous_cancellations            0.000000\n",
       "previous_bookings_not_canceled    0.000000\n",
       "reserved_room_type                0.000000\n",
       "assigned_room_type                0.000000\n",
       "booking_changes                   0.000000\n",
       "deposit_type                      0.000000\n",
       "agent                             0.136862\n",
       "company                           0.943069\n",
       "days_in_waiting_list              0.000000\n",
       "customer_type                     0.000000\n",
       "adr                               0.000000\n",
       "required_car_parking_spaces       0.000000\n",
       "total_of_special_requests         0.000000\n",
       "reservation_status                0.000000\n",
       "reservation_status_date           0.000000\n",
       "dtype: float64"
      ]
     },
     "execution_count": 33,
     "metadata": {},
     "output_type": "execute_result"
    }
   ],
   "source": [
    "data.isnull().sum() / data.shape[0]"
   ]
  },
  {
   "cell_type": "markdown",
   "metadata": {},
   "source": [
    "A children, country, agent és company oszlopokban van null érték.\n",
    "Itt több lehetőség is van, hogy mit csináljunk az adott oszlopokkal.\n",
    "- Ezeket az oszlopokat amikben null érték van egyszerűen csak töröljük.\n",
    "- Behelyettesítjük az átlagos/medián/módusz értékével az adott oszlopnak.\n",
    "- Nem csinálunk vele semmit és hagyjuk úgy ahogy vannak.\n",
    "\n",
    "Azonban ezek közül a megoldások nem lehet egyértelműen választani, hogy melyik adatkészlethez melyik jó anélkül, hogy megvizsgálnánk ezeket az oszlopokat és elgondolkozzunk, hogy ahol hiányzik érték milyen okból kifolyólag hiányozhat.\n",
    "\n",
    "Például: Ha egy olyan adatkészletünk van ami házaknak az árát becsüli meg abból, hogy melyik szoba mekkora, hány szoba van, van-e garázs és hiányzik néhány sorban arról adat, hogy mekkora a nappali akkor rossz döntés az, hogy az egész oszlopot töröljük, hiszen ez esetben rengeteg értékes adatot szedünk ki amivel a jövőben a modellünk pontossága csökkenhet. Egy ilyen esetben mivel általában minden háznak van nappalija elképzelhető, hogy az adatok elvesztek út közben valahol még elért hozzánk, ezért célszerű lehet a hiányzó adatokat az oszlop átlagával/medián/móduszával behelyettesíteni. Ha azonban az adatoknak kevesebb mint 1%-nál nem található csak, hogy mekkora a nappali méret, feltételezhetjük, hogy ezeknek a házaknak valóban nincs nappalijük és úgy hagyjuk ahogy vannak."
   ]
  },
  {
   "cell_type": "markdown",
   "metadata": {},
   "source": [
    "## A mi null adatainkkal mi a teendő?"
   ]
  },
  {
   "cell_type": "markdown",
   "metadata": {},
   "source": [
    "### children(0.0034%) oszlop vizsgálata"
   ]
  },
  {
   "cell_type": "code",
   "execution_count": 34,
   "metadata": {},
   "outputs": [
    {
     "data": {
      "text/plain": [
       "count    119386.000000\n",
       "mean          0.103890\n",
       "std           0.398561\n",
       "min           0.000000\n",
       "25%           0.000000\n",
       "50%           0.000000\n",
       "75%           0.000000\n",
       "max          10.000000\n",
       "Name: children, dtype: float64"
      ]
     },
     "execution_count": 34,
     "metadata": {},
     "output_type": "execute_result"
    }
   ],
   "source": [
    "data[\"children\"].describe()"
   ]
  },
  {
   "cell_type": "markdown",
   "metadata": {},
   "source": [
    "A gyerekek számának átlaga 0.10 és ha a gyerek számát növekvő sorrendbe rendezzük akkor is láthatjuk, hogy az első 75%-ban 0 gyerekkel foglaltak szállást. Így a children oszlop null értékeit behelyettesíthetjük 0-val, ugyanis elég valószínű, hogyha ez az adat hiányzik akkor a szállást foglalok nem vittek gyereket, valamint ha átlag, medián vagy módusz  alapján helyetesítenénk be ezt az értéket akkor is 0-val kéne."
   ]
  },
  {
   "cell_type": "code",
   "execution_count": 35,
   "metadata": {},
   "outputs": [],
   "source": [
    "data[\"children\"] = data[\"children\"].fillna(0)"
   ]
  },
  {
   "cell_type": "markdown",
   "metadata": {},
   "source": [
    "### country(0.4087%) oszlop vizsgálata"
   ]
  },
  {
   "cell_type": "code",
   "execution_count": 36,
   "metadata": {},
   "outputs": [
    {
     "data": {
      "text/plain": [
       "PRT    0.406986\n",
       "GBR    0.101591\n",
       "FRA    0.087235\n",
       "ESP    0.071765\n",
       "DEU    0.061035\n",
       "         ...   \n",
       "DMA    0.000008\n",
       "SDN    0.000008\n",
       "GUY    0.000008\n",
       "BDI    0.000008\n",
       "MRT    0.000008\n",
       "Name: country, Length: 177, dtype: float64"
      ]
     },
     "execution_count": 36,
     "metadata": {},
     "output_type": "execute_result"
    }
   ],
   "source": [
    "data[\"country\"].value_counts() / len(data)"
   ]
  },
  {
   "cell_type": "markdown",
   "metadata": {},
   "source": [
    "Mint láthatjuk itt 177 különböző kategorikus adat van. Azonban ennek a 72.86%-át az első 5 leggyakrabban jelenlévő ország teszi ki. Így a null értékek mellett rengeteg olyan értékünk is van ami maximum egyszer-kétszer jelenik meg az adathalmazban. Ezek az értékek sokkal nem segítik a modell pontosságát, hiszen maximum egy-kettő olyan sort fognak látni amit egy adott országból foglaltak. Így gondolhatnánk azt is hogy mivel a 177 különböző országból 5 teszi ki a foglalások nagy részét, hogy ezt az oszlopot csak simán el lehet hagyni, hiszen az országok többségéről nem fog sok mindent megtudni a modell abból a pár sorból amiben egy adott nemzet szerepel. Én viszont azt a lehetőséget választanám, hogy az első 5 országot úgy hagyjuk ahogy vannak, a többit és ahol null értékek vannak pedig egy \"other\" értékre cserélném így a modellünk nem fog olyan országot látni ami csak pár sorba szerepel. A null értékeket azért lehet biztonságosan other-re cserélni ugyanis egy adott vendégnek a világ valamelyik országából mindenféleképpen érkeznie kell."
   ]
  },
  {
   "cell_type": "code",
   "execution_count": 37,
   "metadata": {},
   "outputs": [],
   "source": [
    "data[\"country\"] = data[\"country\"].fillna(\"Other\") #Null értékek feltöltése other-el"
   ]
  },
  {
   "cell_type": "code",
   "execution_count": 40,
   "metadata": {},
   "outputs": [],
   "source": [
    "for index, row in data.iterrows():\n",
    "    if row[\"country\"] not in [\"PRT\", \"GBR\", \"FRA\", \"ESP\", \"DEU\", \"Other\"]:\n",
    "        data.loc[:, (\"country\", index)] = \"Other\""
   ]
  },
  {
   "cell_type": "code",
   "execution_count": 41,
   "metadata": {},
   "outputs": [
    {
     "data": {
      "text/plain": [
       "PRT      0.406986\n",
       "Other    0.271388\n",
       "GBR      0.101591\n",
       "FRA      0.087235\n",
       "ESP      0.071765\n",
       "DEU      0.061035\n",
       "Name: country, dtype: float64"
      ]
     },
     "execution_count": 41,
     "metadata": {},
     "output_type": "execute_result"
    }
   ],
   "source": [
    "data[\"country\"].value_counts() / len(data)"
   ]
  },
  {
   "cell_type": "markdown",
   "metadata": {},
   "source": [
    "## agent(13.68%), company(94.30%) oszlopok vizsgálata "
   ]
  },
  {
   "cell_type": "markdown",
   "metadata": {},
   "source": [
    "Ez a két oszlop vélemény szerint közel áll egymáshoz ezért lehet a két oszlopot egyszerre vizsgálni azzal kapcsolatban, hogy mit csináljunk a null értékekkel.\n",
    "\n",
    "- agent: Ez annak az utazási irodának az id-jét tartalmazza amelyik a foglalta a szállást. Így ha ez az érték null akkor valószínűleg nem utazási irodán keresztül lett foglalva a szállás.\n",
    "- company: Ez annak a cégnek az id-jét tartalmazza amelyik foglalta a szállást vagy felelős a fizetésért. Így ha ez az érték null feltétlezhetjük a foglalás privát úton történt és nem volt szükség egy ilyen közbenjáróra.\n",
    "\n",
    "Így null értéket egy \"None\" értékkel fogom helyetesíteni."
   ]
  },
  {
   "cell_type": "code",
   "execution_count": 42,
   "metadata": {},
   "outputs": [],
   "source": [
    "data[\"agent\"] = data[\"agent\"].fillna(\"None\")\n",
    "data[\"company\"] = data[\"company\"].fillna(\"None\")"
   ]
  }
 ],
 "metadata": {
  "kernelspec": {
   "display_name": "Python 3",
   "language": "python",
   "name": "python3"
  },
  "language_info": {
   "codemirror_mode": {
    "name": "ipython",
    "version": 3
   },
   "file_extension": ".py",
   "mimetype": "text/x-python",
   "name": "python",
   "nbconvert_exporter": "python",
   "pygments_lexer": "ipython3",
   "version": "3.8.5"
  }
 },
 "nbformat": 4,
 "nbformat_minor": 4
}
