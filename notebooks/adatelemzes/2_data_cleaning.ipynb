{
 "cells": [
  {
   "cell_type": "code",
   "execution_count": 2,
   "metadata": {},
   "outputs": [],
   "source": [
    "import numpy as np\n",
    "import seaborn as sns\n",
    "import pandas as pd\n",
    "import matplotlib.pyplot as plt"
   ]
  },
  {
   "cell_type": "code",
   "execution_count": 3,
   "metadata": {},
   "outputs": [],
   "source": [
    "data = pd.read_csv(\"hotel_bookings.csv\")"
   ]
  },
  {
   "cell_type": "markdown",
   "metadata": {},
   "source": [
    "Melyik oszlop hány százalékben található hiányzó érték"
   ]
  },
  {
   "cell_type": "code",
   "execution_count": 4,
   "metadata": {},
   "outputs": [
    {
     "data": {
      "text/plain": [
       "hotel                             0.000000\n",
       "is_canceled                       0.000000\n",
       "lead_time                         0.000000\n",
       "arrival_date_year                 0.000000\n",
       "arrival_date_month                0.000000\n",
       "arrival_date_week_number          0.000000\n",
       "arrival_date_day_of_month         0.000000\n",
       "stays_in_weekend_nights           0.000000\n",
       "stays_in_week_nights              0.000000\n",
       "adults                            0.000000\n",
       "children                          0.000034\n",
       "babies                            0.000000\n",
       "meal                              0.000000\n",
       "country                           0.004087\n",
       "market_segment                    0.000000\n",
       "distribution_channel              0.000000\n",
       "is_repeated_guest                 0.000000\n",
       "previous_cancellations            0.000000\n",
       "previous_bookings_not_canceled    0.000000\n",
       "reserved_room_type                0.000000\n",
       "assigned_room_type                0.000000\n",
       "booking_changes                   0.000000\n",
       "deposit_type                      0.000000\n",
       "agent                             0.136862\n",
       "company                           0.943069\n",
       "days_in_waiting_list              0.000000\n",
       "customer_type                     0.000000\n",
       "adr                               0.000000\n",
       "required_car_parking_spaces       0.000000\n",
       "total_of_special_requests         0.000000\n",
       "reservation_status                0.000000\n",
       "reservation_status_date           0.000000\n",
       "dtype: float64"
      ]
     },
     "execution_count": 4,
     "metadata": {},
     "output_type": "execute_result"
    }
   ],
   "source": [
    "data.isnull().sum() / data.shape[0]"
   ]
  },
  {
   "cell_type": "markdown",
   "metadata": {},
   "source": [
    "A children, country, agent és company oszlopokban van hiányzó érték.\n",
    "Itt több lehetőség is van, hogy mit csináljunk az adott oszlopokkal.\n",
    "- Ezeket az oszlopokat amikben hiányzó érték van egyszerűen csak töröljük.\n",
    "- Behelyettesítjük az átlagos/medián/módusz értékével az adott oszlopnak.\n",
    "- Nem csinálunk vele semmit és hagyjuk úgy ahogy vannak.\n",
    "\n",
    "Azonban ezek közül a megoldások nem lehet egyértelműen választani, hogy melyik adatkészlethez melyik jó anélkül, hogy megvizsgálnánk ezeket az oszlopokat és elgondolkozzunk, hogy ahol hiányzik érték milyen okból kifolyólag hiányozhat.\n",
    "\n",
    "Például: Ha egy olyan adatkészletünk van ami házaknak az árát becsüli meg abból, hogy melyik szoba mekkora, hány szoba van, van-e garázs és hiányzik néhány sorban arról adat, hogy mekkora a nappali akkor rossz döntés az, hogy az egész oszlopot töröljük, hiszen ez esetben rengeteg értékes adatot szedünk ki amivel a jövőben a modellünk pontossága csökkenhet. Egy ilyen esetben mivel általában minden háznak van nappalija elképzelhető, hogy az adatok elvesztek út közben, ezért célszerű lehet a hiányzó adatokat az oszlop átlagával/medián/móduszával behelyettesíteni. Ha azonban az adatoknak kevesebb mint 1%-nál nem található csak, hogy mekkora a nappali méret, feltételezhetjük, hogy ezeknek a házaknak valóban nincs nappalijük és úgy hagyjuk ahogy vannak."
   ]
  },
  {
   "cell_type": "markdown",
   "metadata": {},
   "source": [
    "## A mi hiányzó adatainkkal mi a teendő?"
   ]
  },
  {
   "cell_type": "markdown",
   "metadata": {},
   "source": [
    "### children(0.0034%) oszlop vizsgálata"
   ]
  },
  {
   "cell_type": "code",
   "execution_count": 5,
   "metadata": {},
   "outputs": [
    {
     "data": {
      "text/plain": [
       "count    119386.000000\n",
       "mean          0.103890\n",
       "std           0.398561\n",
       "min           0.000000\n",
       "25%           0.000000\n",
       "50%           0.000000\n",
       "75%           0.000000\n",
       "max          10.000000\n",
       "Name: children, dtype: float64"
      ]
     },
     "execution_count": 5,
     "metadata": {},
     "output_type": "execute_result"
    }
   ],
   "source": [
    "data[\"children\"].describe()"
   ]
  },
  {
   "cell_type": "markdown",
   "metadata": {},
   "source": [
    "A gyerekek számának átlaga 0.10 és ha a gyerek számát növekvő sorrendbe rendezzük akkor is láthatjuk, hogy az első 75%-ban 0 gyerekkel foglaltak szállást. Így a children oszlop hiányzó értékeit behelyettesíthetjük 0-val, ugyanis elég valószínű, hogyha ez az adat hiányzik akkor a szállást foglalok nem vittek gyereket, valamint ha átlag, medián vagy módusz  alapján helyetesítenénk be ezt az értéket akkor is 0-val kéne."
   ]
  },
  {
   "cell_type": "code",
   "execution_count": 6,
   "metadata": {},
   "outputs": [],
   "source": [
    "data[\"children\"] = data[\"children\"].fillna(0)"
   ]
  },
  {
   "cell_type": "markdown",
   "metadata": {},
   "source": [
    "### country(0.4087%) oszlop vizsgálata"
   ]
  },
  {
   "cell_type": "code",
   "execution_count": 7,
   "metadata": {},
   "outputs": [
    {
     "data": {
      "text/plain": [
       "PRT    0.406986\n",
       "GBR    0.101591\n",
       "FRA    0.087235\n",
       "ESP    0.071765\n",
       "DEU    0.061035\n",
       "         ...   \n",
       "NPL    0.000008\n",
       "BWA    0.000008\n",
       "PYF    0.000008\n",
       "HND    0.000008\n",
       "BHS    0.000008\n",
       "Name: country, Length: 177, dtype: float64"
      ]
     },
     "execution_count": 7,
     "metadata": {},
     "output_type": "execute_result"
    }
   ],
   "source": [
    "data[\"country\"].value_counts() / len(data)"
   ]
  },
  {
   "cell_type": "markdown",
   "metadata": {},
   "source": [
    "Mint láthatjuk itt 177 különböző kategorikus adat van. Azonban ennek a 72.86%-át az első 5 leggyakrabban jelenlévő ország teszi ki. Így a hiányzó értékek mellett rengeteg olyan értékünk is van ami maximum egyszer-kétszer jelenik meg az adathalmazban. Ezek az értékek sokkal nem segítik a modell pontosságát, hiszen maximum egy-kettő olyan sort fognak látni amit egy adott országból foglaltak. Így gondolhatnánk azt is hogy mivel a 177 különböző országból 5 teszi ki a foglalások nagy részét, hogy ezt az oszlopot csak simán el lehet hagyni, hiszen az országok többségéről nem fog sok mindent megtudni a modell abból a pár sorból amiben egy adott nemzet szerepel. Én viszont azt a lehetőséget választanám, hogy az első 5 országot úgy hagyjuk ahogy vannak, a többit és ahol hiányzó értékek vannak pedig egy \"other\" értékre cserélném így a modellünk nem fog olyan országot látni ami csak pár sorba szerepel. A hiányzó értékeket azért lehet biztonságosan other-re cserélni ugyanis egy adott vendégnek a világ valamelyik országából mindenféleképpen érkeznie kell."
   ]
  },
  {
   "cell_type": "code",
   "execution_count": 8,
   "metadata": {},
   "outputs": [],
   "source": [
    "data[\"country\"] = data[\"country\"].fillna(\"Other\") #hiányzó értékek feltöltése other-el"
   ]
  },
  {
   "cell_type": "code",
   "execution_count": 9,
   "metadata": {},
   "outputs": [],
   "source": [
    "#for index, row in data.iterrows():\n",
    "#    if row[\"country\"] not in [\"PRT\", \"GBR\", \"FRA\", \"ESP\", \"DEU\", \"Other\"]:\n",
    "#        data.loc[:, (\"country\", index)] = \"Other\"\n",
    "data.loc[(data['country'] != 'PRT') & (data['country'] != 'GBR') & (data['country'] != 'FRA') & (data['country'] != 'ESP') & (data['country'] != 'DEU') & (data['country'] != 'Other'), 'country'] = 'Other'"
   ]
  },
  {
   "cell_type": "code",
   "execution_count": 10,
   "metadata": {},
   "outputs": [
    {
     "data": {
      "text/plain": [
       "PRT      0.406986\n",
       "Other    0.271388\n",
       "GBR      0.101591\n",
       "FRA      0.087235\n",
       "ESP      0.071765\n",
       "DEU      0.061035\n",
       "Name: country, dtype: float64"
      ]
     },
     "execution_count": 10,
     "metadata": {},
     "output_type": "execute_result"
    }
   ],
   "source": [
    "data[\"country\"].value_counts() / len(data)"
   ]
  },
  {
   "cell_type": "markdown",
   "metadata": {},
   "source": [
    "## agent(13.68%), company(94.30%) oszlopok vizsgálata "
   ]
  },
  {
   "cell_type": "markdown",
   "metadata": {},
   "source": [
    "Ez a két oszlop vélemény szerint közel áll egymáshoz ezért lehet a két oszlopot egyszerre vizsgálni azzal kapcsolatban, hogy mit csináljunk a null értékekkel.\n",
    "\n",
    "- agent: Ez annak az utazási irodának az id-jét tartalmazza amelyik a foglalta a szállást. Így ha ez az érték null akkor valószínűleg nem utazási irodán keresztül lett foglalva a szállás.\n",
    "- company: Ez annak a cégnek az id-jét tartalmazza amelyik foglalta a szállást vagy felelős a fizetésért. Így ha ez az érték null feltétlezhetjük a foglalás privát úton történt és nem volt szükség egy ilyen közbenjáróra.\n",
    "\n",
    "Így null értéket egy \"None\" értékkel fogom helyetesíteni."
   ]
  },
  {
   "cell_type": "code",
   "execution_count": 11,
   "metadata": {},
   "outputs": [],
   "source": [
    "data[\"agent\"] = data[\"agent\"].fillna(\"None\")\n",
    "data[\"company\"] = data[\"company\"].fillna(\"None\")"
   ]
  },
  {
   "cell_type": "markdown",
   "metadata": {},
   "source": [
    "## adr oszlop vizsgálata\n",
    "Ebben az oszlopban nem hiányzó értéket találtam hanem még a 1_infos_about_dataset.ipynb notebookban azt vettem észre, hogy a legkisebb érték -6.38 ami lényegében azt jeletni, hogy a szálloda fizetett a vendégnek naponta 6.38 eurót."
   ]
  },
  {
   "cell_type": "code",
   "execution_count": 12,
   "metadata": {},
   "outputs": [
    {
     "data": {
      "text/plain": [
       "count    119390.000000\n",
       "mean        101.831122\n",
       "std          50.535790\n",
       "min          -6.380000\n",
       "25%          69.290000\n",
       "50%          94.575000\n",
       "75%         126.000000\n",
       "max        5400.000000\n",
       "Name: adr, dtype: float64"
      ]
     },
     "execution_count": 12,
     "metadata": {},
     "output_type": "execute_result"
    }
   ],
   "source": [
    "data[\"adr\"].describe()"
   ]
  },
  {
   "cell_type": "markdown",
   "metadata": {},
   "source": [
    "Nézzük meg hány 0-nál kisebb érték van ebben az oszlopban, valamint írjuk ki ezeket a sorokat hátha megtaláljuk az anomáliát ami miatt van negatív értékünk."
   ]
  },
  {
   "cell_type": "code",
   "execution_count": 13,
   "metadata": {},
   "outputs": [
    {
     "name": "stdout",
     "output_type": "stream",
     "text": [
      "hotel                                Resort Hotel\n",
      "is_canceled                                     0\n",
      "lead_time                                     195\n",
      "arrival_date_year                            2017\n",
      "arrival_date_month                          March\n",
      "arrival_date_week_number                       10\n",
      "arrival_date_day_of_month                       5\n",
      "stays_in_weekend_nights                         4\n",
      "stays_in_week_nights                            6\n",
      "adults                                          2\n",
      "children                                        0\n",
      "babies                                          0\n",
      "meal                                           BB\n",
      "country                                       GBR\n",
      "market_segment                             Groups\n",
      "distribution_channel                       Direct\n",
      "is_repeated_guest                               1\n",
      "previous_cancellations                          0\n",
      "previous_bookings_not_canceled                  2\n",
      "reserved_room_type                              A\n",
      "assigned_room_type                              H\n",
      "booking_changes                                 2\n",
      "deposit_type                           No Deposit\n",
      "agent                                         273\n",
      "company                                      None\n",
      "days_in_waiting_list                            0\n",
      "customer_type                     Transient-Party\n",
      "adr                                         -6.38\n",
      "required_car_parking_spaces                     0\n",
      "total_of_special_requests                       0\n",
      "reservation_status                      Check-Out\n",
      "reservation_status_date                2017-03-15\n",
      "Name: 14969, dtype: object\n",
      "1\n"
     ]
    }
   ],
   "source": [
    "count = 0\n",
    "\n",
    "for index, row in data.iterrows():\n",
    "    if row[\"adr\"] < 0:\n",
    "        count+=1\n",
    "        print(row)\n",
    "        \n",
    "print(count)"
   ]
  },
  {
   "cell_type": "markdown",
   "metadata": {},
   "source": [
    "Csupán egy értékünk van ami kisebb 0-nál.\n",
    "\n",
    "Semmi különöset nem veszek észre az adatokban. A foglalást nem mondták le, a reservation_status: Check-out amit az ott tartózkodásuk végén módosítottak tehát nem mentek el hamarabb a szállodából akármilyen okból. Így úgy gondolom, hogy ez az egy érték is rendbe legyen helyetessítsük be ennél a sornál az adr-t az átlagos adr- értékével."
   ]
  },
  {
   "cell_type": "code",
   "execution_count": 14,
   "metadata": {},
   "outputs": [],
   "source": [
    "data.loc[data[\"adr\"] < 0, \"adr\"] = data[\"adr\"].mean()"
   ]
  },
  {
   "cell_type": "markdown",
   "metadata": {},
   "source": [
    "Az új adatok lementése egy csv fájlba"
   ]
  },
  {
   "cell_type": "code",
   "execution_count": 15,
   "metadata": {},
   "outputs": [],
   "source": [
    "compression_opts = dict(method='zip',\n",
    "                        archive_name='out.csv')  \n",
    "data.to_csv('out.zip', index=False,\n",
    "          compression=compression_opts)  "
   ]
  },
  {
   "cell_type": "code",
   "execution_count": null,
   "metadata": {},
   "outputs": [],
   "source": []
  }
 ],
 "metadata": {
  "kernelspec": {
   "display_name": "Python 3",
   "language": "python",
   "name": "python3"
  },
  "language_info": {
   "codemirror_mode": {
    "name": "ipython",
    "version": 3
   },
   "file_extension": ".py",
   "mimetype": "text/x-python",
   "name": "python",
   "nbconvert_exporter": "python",
   "pygments_lexer": "ipython3",
   "version": "3.8.5"
  }
 },
 "nbformat": 4,
 "nbformat_minor": 4
}
