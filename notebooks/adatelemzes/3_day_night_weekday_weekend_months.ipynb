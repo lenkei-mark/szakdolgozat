{
 "cells": [
  {
   "cell_type": "code",
   "execution_count": 1,
   "metadata": {},
   "outputs": [],
   "source": [
    "import numpy as np\n",
    "import seaborn as sns\n",
    "import pandas as pd\n",
    "import matplotlib.pyplot as plt\n",
    "from datetime import date"
   ]
  },
  {
   "cell_type": "code",
   "execution_count": 2,
   "metadata": {},
   "outputs": [],
   "source": [
    "data = pd.read_csv(\"cleaned_hotel_bookings.csv\")"
   ]
  },
  {
   "cell_type": "markdown",
   "metadata": {},
   "source": [
    "# Adatelemzés megkezdése\n",
    "NÉHÁNY MONDAT EZ MIÉRT FONTOS ÉS MI IS VALÓJÁBAN(https://medium.com/swlh/exploratory-data-analysis-what-is-it-and-why-is-it-so-important-part-1-2-240d58a89695)\n",
    "\n",
    "### Egyik gondolatom: Minél hamarabb foglalják a foglalást annál nagyobb valőszínűséggel mondják le."
   ]
  },
  {
   "cell_type": "code",
   "execution_count": 3,
   "metadata": {},
   "outputs": [
    {
     "data": {
      "text/html": [
       "<div>\n",
       "<style scoped>\n",
       "    .dataframe tbody tr th:only-of-type {\n",
       "        vertical-align: middle;\n",
       "    }\n",
       "\n",
       "    .dataframe tbody tr th {\n",
       "        vertical-align: top;\n",
       "    }\n",
       "\n",
       "    .dataframe thead th {\n",
       "        text-align: right;\n",
       "    }\n",
       "</style>\n",
       "<table border=\"1\" class=\"dataframe\">\n",
       "  <thead>\n",
       "    <tr style=\"text-align: right;\">\n",
       "      <th></th>\n",
       "      <th>lead_time</th>\n",
       "    </tr>\n",
       "    <tr>\n",
       "      <th>is_canceled</th>\n",
       "      <th></th>\n",
       "    </tr>\n",
       "  </thead>\n",
       "  <tbody>\n",
       "    <tr>\n",
       "      <th>0</th>\n",
       "      <td>79.984687</td>\n",
       "    </tr>\n",
       "    <tr>\n",
       "      <th>1</th>\n",
       "      <td>144.848815</td>\n",
       "    </tr>\n",
       "  </tbody>\n",
       "</table>\n",
       "</div>"
      ],
      "text/plain": [
       "              lead_time\n",
       "is_canceled            \n",
       "0             79.984687\n",
       "1            144.848815"
      ]
     },
     "execution_count": 3,
     "metadata": {},
     "output_type": "execute_result"
    }
   ],
   "source": [
    "pd.pivot_table(data, values = \"lead_time\", index = \"is_canceled\") "
   ]
  },
  {
   "cell_type": "markdown",
   "metadata": {},
   "source": [
    "1 azt mutatja, hogy a foglalást lemondták, a 0 pedig azt, hogy nem.\n",
    "\n",
    "Mint láthatjuk a lemondott foglalásokat körülbelül kétszer hamarabb foglalták mint azokat amiket nem mondtak le.\n",
    "\n",
    "Így levonhatjuk azt a következtetést, hogy minél nagyobb a lead_time-ja egy foglalásnak, annál nagyobb a valőszínűsége, hogy le fogják azt mondani.\n",
    "\n",
    "Következőnek azok között a foglalások között érdekelne a lemondási arány amiket az emberek csak hétvégére és csak hétköznapokra foglaltak."
   ]
  },
  {
   "cell_type": "code",
   "execution_count": 4,
   "metadata": {},
   "outputs": [
    {
     "name": "stdout",
     "output_type": "stream",
     "text": [
      "Csak hétköznap:  0.38 lemondva\n",
      "Csak hétvége:  0.25 lemondva\n"
     ]
    }
   ],
   "source": [
    "only_week_night = data.loc[data[\"stays_in_weekend_nights\"] == 0, \"stays_in_week_nights\"].count()\n",
    "only_weekend_night = data.loc[data[\"stays_in_week_nights\"] == 0, \"stays_in_weekend_nights\"].count()\n",
    "only_week_night_no_cancel = data.loc[(data[\"stays_in_weekend_nights\"] == 0) & (data[\"is_canceled\"] == 0), \"stays_in_week_nights\"].count()\n",
    "only_weekend_night_no_cancel = data.loc[(data[\"stays_in_week_nights\"] == 0) & (data[\"is_canceled\"] == 0), \"stays_in_weekend_nights\"].count()\n",
    "print(\"Csak hétköznap: {: .2f} lemondva\".format(1-(only_week_night_no_cancel/only_week_night)))\n",
    "print(\"Csak hétvége: {: .2f} lemondva\".format(1-(only_weekend_night_no_cancel/only_weekend_night)))"
   ]
  },
  {
   "cell_type": "markdown",
   "metadata": {},
   "source": [
    "13%-kal kevesebb foglalást mondanak le a hétvégéken.\n",
    "\n",
    "Valószínűleg azért mert az embereknek a hétköznapokban munka vagy akármilyen más ügyei lehetnek amik miatt le kell mondani a foglalást. Akár egyik napról a másikra is.\n",
    "\n",
    "Ez gondot jelent a szállodáknak ugyanis minél később mondja le a foglalását egy vendég annál kevesebb ideje van eladni újra a szobát.\n",
    "\n",
    "KÖVETKEZŐNEK MEGNÉZEM: Olyan szempontból, hogy hány százalékát mondják le ezeknek a foglalásoknak hirtelen(1-2 nappal az érkezés előtt). Ugyanis egy szálloda szempontjából a hirtelen lemondott foglalások okozzák az egyik legnagyobb problémát.\n",
    "    \n",
    "Az emberek jobban ráérnek a hétvégéken. ÁLTALÁNOS FELVETÉS"
   ]
  },
  {
   "cell_type": "markdown",
   "metadata": {},
   "source": [
    "### Hány százalékát mondják le ezeknek a foglalásoknak hirtelen(1-2 nappal az érkezés előtt)?"
   ]
  },
  {
   "cell_type": "code",
   "execution_count": 5,
   "metadata": {},
   "outputs": [],
   "source": [
    "canceled_info=data[data[\"reservation_status\"]==\"Canceled\"]\n",
    "#Most meg van az összes olyan foglalásunk amiket lemondtak. Ezek közül kell kiválogatni azokat a foglalásokat amiket csak hétköznapokra foglaltak.\n",
    "canceled_info_week_night = canceled_info[canceled_info[\"stays_in_weekend_nights\"]==0]\n",
    "#Meg van az összes lemondott hétköznapi foglalás"
   ]
  },
  {
   "cell_type": "code",
   "execution_count": 6,
   "metadata": {},
   "outputs": [
    {
     "name": "stdout",
     "output_type": "stream",
     "text": [
      "A foglalások  0.06 van legfeljebb 2 nappal érkezés előtt lemondva\n"
     ]
    }
   ],
   "source": [
    "#Most meg kell számolni az összes olyan foglalást amit legfeljebb 2 nappal az érkezés előtt mondtak le.\n",
    "months = {\"January\": 1, \"February\": 2, \"March\": 3, \"April\": 4, \"May\": 5, \"June\": 6, \"July\": 7, \"August\": 8, \"September\": 9, \"October\": 10, \"November\": 11, \"December\": 12}\n",
    "less_than_2_count = 0\n",
    "for index, row in canceled_info_week_night.iterrows():\n",
    "    arrival_year = row[\"arrival_date_year\"]\n",
    "    arrival_month = months[row[\"arrival_date_month\"]]\n",
    "    arrival_day = row[\"arrival_date_day_of_month\"]\n",
    "    status_change = row[\"reservation_status_date\"].split(\"-\")\n",
    "    arrival_date = date(arrival_year, arrival_month, arrival_day)\n",
    "    change_date = date(int(status_change[0]), int(status_change[1]), int(status_change[2]))\n",
    "    if (arrival_date-change_date).days < 3:\n",
    "        less_than_2_count+=1\n",
    "print(\"A foglalások {: .2f} van legfeljebb 2 nappal érkezés előtt lemondva\".format(less_than_2_count/len(canceled_info_week_night)))"
   ]
  },
  {
   "cell_type": "markdown",
   "metadata": {},
   "source": [
    "Csupán a foglalások 6%-a van legfeljebb 2 nappal érkezés előtt lemondva.\n",
    "\n",
    "Ezáltal az ezekben a szállodákban foglalt vendégeknek csupán töredékének kellett hirtelen lemondani a foglalását.\n",
    "\n",
    "Mivel a foglalásoknak kis része tartozik ebbe, nem lehet egyáltalán azt állítani, hogy egy hétköznapi foglalásnál minél közelebb kerülünk az érkezés dátumához annál nagyobb valószínűséggel mondanák le a foglalást."
   ]
  }
 ],
 "metadata": {
  "kernelspec": {
   "display_name": "Python 3",
   "language": "python",
   "name": "python3"
  },
  "language_info": {
   "codemirror_mode": {
    "name": "ipython",
    "version": 3
   },
   "file_extension": ".py",
   "mimetype": "text/x-python",
   "name": "python",
   "nbconvert_exporter": "python",
   "pygments_lexer": "ipython3",
   "version": "3.8.5"
  }
 },
 "nbformat": 4,
 "nbformat_minor": 4
}
