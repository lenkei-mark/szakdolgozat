{
 "cells": [
  {
   "cell_type": "code",
   "execution_count": 1,
   "metadata": {},
   "outputs": [],
   "source": [
    "import numpy as np\n",
    "import seaborn as sns\n",
    "import pandas as pd\n",
    "import matplotlib.pyplot as plt"
   ]
  },
  {
   "cell_type": "code",
   "execution_count": 2,
   "metadata": {},
   "outputs": [],
   "source": [
    "data = pd.read_csv(\"cleaned_hotel_bookings.csv\")"
   ]
  },
  {
   "cell_type": "markdown",
   "metadata": {},
   "source": [
    "# Felnőttek, gyerekek, babák\n",
    "\n",
    "Következőnek ezekkel a feature-kat szeretném megvizsgálni. Az én gondolatom a következő. Minél több személy foglalta le a szállást annál, nagyobb a valószínűsége, hogy a szállás le lesz mondva, hiszen minél több ember tervezz előre annál valószínűbb, hogy az egyikkel történi fog valami, lebetegszik, mégis csak be kell mennie a munkába, hasonlóan a gyerekkel.\n",
    "\n",
    "### A következő állításokat szeretném megvizsgálni:\n",
    "\n",
    "- Minél több adults van a foglalásban annál valószínűbb, hogy lemondják\n",
    "- Ha van legalább 1 children a foglalásban, nagyobb a valószínűsége, hogy lemondják mintha nem lenne\n",
    "- Ha van legalább 1 babies a foglalásban, nagyobb a valószínűsége, hogy lemondják mintha nem lenne\n",
    "- Minél több a személyek(adults, children, babies) száma összesen, annál valószínűbb, hogy lemondják"
   ]
  },
  {
   "cell_type": "markdown",
   "metadata": {},
   "source": [
    "### Minél több adults van a foglalásban annál valószínűbb, hogy lemondják vizsgálata\n",
    "\n",
    "Először megnézem mennyi az átlagos adults az összes foglalásban"
   ]
  },
  {
   "cell_type": "code",
   "execution_count": 3,
   "metadata": {},
   "outputs": [
    {
     "name": "stdout",
     "output_type": "stream",
     "text": [
      "Átlagos felnőttek száma az összes foglalás figyelembe vételénél: 1.8564\n"
     ]
    }
   ],
   "source": [
    "print(\"Átlagos felnőttek száma az összes foglalás figyelembe vételénél: {:.4f}\".format(data[\"adults\"].mean()))"
   ]
  },
  {
   "cell_type": "markdown",
   "metadata": {},
   "source": [
    "Külön megnézve az átlagos felnőttek száma, a lemondott és a megérkezett foglalásoknál"
   ]
  },
  {
   "cell_type": "code",
   "execution_count": 4,
   "metadata": {},
   "outputs": [
    {
     "data": {
      "text/html": [
       "<div>\n",
       "<style scoped>\n",
       "    .dataframe tbody tr th:only-of-type {\n",
       "        vertical-align: middle;\n",
       "    }\n",
       "\n",
       "    .dataframe tbody tr th {\n",
       "        vertical-align: top;\n",
       "    }\n",
       "\n",
       "    .dataframe thead th {\n",
       "        text-align: right;\n",
       "    }\n",
       "</style>\n",
       "<table border=\"1\" class=\"dataframe\">\n",
       "  <thead>\n",
       "    <tr style=\"text-align: right;\">\n",
       "      <th></th>\n",
       "      <th>adults</th>\n",
       "    </tr>\n",
       "    <tr>\n",
       "      <th>is_canceled</th>\n",
       "      <th></th>\n",
       "    </tr>\n",
       "  </thead>\n",
       "  <tbody>\n",
       "    <tr>\n",
       "      <th>0</th>\n",
       "      <td>1.829737</td>\n",
       "    </tr>\n",
       "    <tr>\n",
       "      <th>1</th>\n",
       "      <td>1.901728</td>\n",
       "    </tr>\n",
       "  </tbody>\n",
       "</table>\n",
       "</div>"
      ],
      "text/plain": [
       "               adults\n",
       "is_canceled          \n",
       "0            1.829737\n",
       "1            1.901728"
      ]
     },
     "execution_count": 4,
     "metadata": {},
     "output_type": "execute_result"
    }
   ],
   "source": [
    "pd.pivot_table(data, values = \"adults\", index = \"is_canceled\")"
   ]
  },
  {
   "cell_type": "markdown",
   "metadata": {},
   "source": [
    "A lemondott foglalásoknál valamivel több az átlagos felnőttek száma azonban a két érték nem tér el nagyban egymástól, hogy egyértelmű következtetést tudjunk levonni belőle"
   ]
  },
  {
   "cell_type": "markdown",
   "metadata": {},
   "source": [
    "### Ha van legalább 1 children a foglalásban, nagyobb a valószínűsége, hogy lemondják mintha nem lenne vizsgálata"
   ]
  },
  {
   "cell_type": "code",
   "execution_count": 36,
   "metadata": {},
   "outputs": [
    {
     "name": "stdout",
     "output_type": "stream",
     "text": [
      "110800 db foglalást children nélkül foglaltak\n",
      "8590 db foglalást legalább 1 children-nel foglaltak\n",
      "Nincs children a foglalásban lemondva: 0.3709\n",
      "Legalább 1 children van a foglalásban lemondva: 0.3639\n"
     ]
    }
   ],
   "source": [
    "no_children_all = data.loc[data[\"children\"] == 0, \"is_canceled\"].count()\n",
    "children_all = data.loc[data[\"children\"] != 0, \"is_canceled\"].count()\n",
    "print(f\"{no_children_all} db foglalást children nélkül foglaltak\")\n",
    "print(f\"{children_all} db foglalást legalább 1 children-nel foglaltak\")\n",
    "no_children_canceled = data.loc[(data[\"children\"] == 0) & (data[\"is_canceled\"] == 1), \"is_canceled\"].count()\n",
    "children_canceled = data.loc[(data[\"children\"] != 0) & (data[\"is_canceled\"] == 1), \"is_canceled\"].count()\n",
    "print(\"Nincs children a foglalásban lemondva: {:.4f}\".format(no_children_canceled/no_children_all))\n",
    "print(\"Legalább 1 children van a foglalásban lemondva: {:.4f}\".format(children_canceled/children_all))"
   ]
  },
  {
   "cell_type": "markdown",
   "metadata": {},
   "source": [
    "A két eset között, hogy legalább 1 children-nel vagy children nélkül mondják-e le nagyobb valószínűséggel a foglalást nincs nagy eltérés. Valamint a két különböző esetnek nagyban eltér a rendelkezésre álló adatmennyiség (egyik esetről 110800 példánk van a másikról csupán 8590), ezért az állítást, hogy akik legalább 1 children-nel foglaltak szállást nagyobb valószínűséggel mondják nem tudom igazolni."
   ]
  },
  {
   "cell_type": "markdown",
   "metadata": {},
   "source": [
    "### Ha van legalább 1 babies a foglalásban, nagyobb a valószínűsége, hogy lemondják mintha nem lenne"
   ]
  },
  {
   "cell_type": "code",
   "execution_count": 37,
   "metadata": {},
   "outputs": [
    {
     "name": "stdout",
     "output_type": "stream",
     "text": [
      "118473 db foglalást babies nélkül foglaltak\n",
      "917 db foglalást legalább 1 babies-el foglaltak\n",
      "Nincs babies a foglalásban lemondva: 0.3719\n",
      "Legalább 1 babies van a foglalásban lemondva: 0.1821\n"
     ]
    }
   ],
   "source": [
    "no_babies_all = data.loc[data[\"babies\"] == 0, \"is_canceled\"].count()\n",
    "babies_all = data.loc[data[\"babies\"] != 0, \"is_canceled\"].count()\n",
    "no_babies_canceled = data.loc[(data[\"babies\"] == 0) & (data[\"is_canceled\"] == 1), \"is_canceled\"].count()\n",
    "babies_canceled = data.loc[(data[\"babies\"] != 0) & (data[\"is_canceled\"] == 1), \"is_canceled\"].count()\n",
    "print(f\"{no_babies_all} db foglalást babies nélkül foglaltak\")\n",
    "print(f\"{babies_all} db foglalást legalább 1 babies-el foglaltak\")\n",
    "print(\"Nincs babies a foglalásban lemondva: {:.4f}\".format(no_babies_canceled/no_babies_all))\n",
    "print(\"Legalább 1 babies van a foglalásban lemondva: {:.4f}\".format(babies_canceled/babies_all))"
   ]
  },
  {
   "cell_type": "markdown",
   "metadata": {},
   "source": [
    "Ebben a két esetben már elégnek mondható lenne az eltérés, hogy következtetéseket vonjunk le. Azonban a rendelkezésre álló adatok arányával nagyobb baj van mint az előző vizsgálatnál, hiszen itt azoknak a foglalásoknak a száma amiben legalább 1 babies van az 1000 darabot sem éri el míg a másik esetben 118000-nél is több példánk van. Emiatt a hatalmas aránytalanság miatt ebből sem tudunk biztos dolgot állítani."
   ]
  },
  {
   "cell_type": "markdown",
   "metadata": {},
   "source": [
    "### Minél több a személyek(adults, children, babies) száma összesen, annál valószínűbb, hogy lemondják vizsgálata"
   ]
  },
  {
   "cell_type": "code",
   "execution_count": 40,
   "metadata": {},
   "outputs": [
    {
     "data": {
      "text/html": [
       "<div>\n",
       "<style scoped>\n",
       "    .dataframe tbody tr th:only-of-type {\n",
       "        vertical-align: middle;\n",
       "    }\n",
       "\n",
       "    .dataframe tbody tr th {\n",
       "        vertical-align: top;\n",
       "    }\n",
       "\n",
       "    .dataframe thead th {\n",
       "        text-align: right;\n",
       "    }\n",
       "</style>\n",
       "<table border=\"1\" class=\"dataframe\">\n",
       "  <thead>\n",
       "    <tr style=\"text-align: right;\">\n",
       "      <th></th>\n",
       "      <th>total_people</th>\n",
       "    </tr>\n",
       "    <tr>\n",
       "      <th>is_canceled</th>\n",
       "      <th></th>\n",
       "    </tr>\n",
       "  </thead>\n",
       "  <tbody>\n",
       "    <tr>\n",
       "      <th>0</th>\n",
       "      <td>1.942461</td>\n",
       "    </tr>\n",
       "    <tr>\n",
       "      <th>1</th>\n",
       "      <td>2.012052</td>\n",
       "    </tr>\n",
       "  </tbody>\n",
       "</table>\n",
       "</div>"
      ],
      "text/plain": [
       "             total_people\n",
       "is_canceled              \n",
       "0                1.942461\n",
       "1                2.012052"
      ]
     },
     "execution_count": 40,
     "metadata": {},
     "output_type": "execute_result"
    }
   ],
   "source": [
    "data[\"total_people\"] = data[\"adults\"]+data[\"children\"]+data[\"babies\"]\n",
    "pd.pivot_table(data, values = \"total_people\", index = \"is_canceled\")"
   ]
  },
  {
   "cell_type": "markdown",
   "metadata": {},
   "source": [
    "A két érték ebben az esetben sem tér el egymástól nagyon, így megint nem tudunk biztos következtetéseket levonni"
   ]
  },
  {
   "cell_type": "markdown",
   "metadata": {},
   "source": [
    "Szakdogában arról írni ezután a rész után, hogy miért lehetett az hogy még a 3_day_night_weekday_weekend_months munkafüzetben volt hasznos következtetésünk amit bizonyitani is tudtunk, ebben a részben azonban már egyáltalán nincsen ilyen. Korrelációs mátrix bevezetése stb."
   ]
  }
 ],
 "metadata": {
  "kernelspec": {
   "display_name": "Python 3",
   "language": "python",
   "name": "python3"
  },
  "language_info": {
   "codemirror_mode": {
    "name": "ipython",
    "version": 3
   },
   "file_extension": ".py",
   "mimetype": "text/x-python",
   "name": "python",
   "nbconvert_exporter": "python",
   "pygments_lexer": "ipython3",
   "version": "3.8.5"
  }
 },
 "nbformat": 4,
 "nbformat_minor": 4
}
