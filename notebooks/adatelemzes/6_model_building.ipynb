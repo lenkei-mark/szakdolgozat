{
 "cells": [
  {
   "cell_type": "code",
   "execution_count": 1,
   "metadata": {},
   "outputs": [],
   "source": [
    "#Model építése és tanítása"
   ]
  },
  {
   "cell_type": "code",
   "execution_count": 2,
   "metadata": {},
   "outputs": [],
   "source": [
    "import numpy as np\n",
    "import seaborn as sns\n",
    "import pandas as pd\n",
    "import matplotlib.pyplot as plt\n",
    "from sklearn.model_selection import train_test_split, KFold, cross_validate, cross_val_score\n",
    "from sklearn.pipeline import Pipeline\n",
    "from sklearn.compose import ColumnTransformer\n",
    "from sklearn.preprocessing import OneHotEncoder\n",
    "from sklearn.impute import SimpleImputer\n",
    "from sklearn.tree import DecisionTreeClassifier\n",
    "from sklearn.ensemble import RandomForestClassifier\n",
    "from sklearn.linear_model import LogisticRegression\n",
    "from sklearn.neighbors import KNeighborsClassifier\n",
    "from sklearn.ensemble import GradientBoostingClassifier\n",
    "from sklearn import svm\n",
    "from sklearn.metrics import accuracy_score\n",
    "from sklearn.metrics import classification_report, confusion_matrix"
   ]
  },
  {
   "cell_type": "code",
   "execution_count": 3,
   "metadata": {},
   "outputs": [],
   "source": [
    "data = pd.read_csv(\"cleaned_hotel_bookings.csv\")"
   ]
  },
  {
   "cell_type": "markdown",
   "metadata": {},
   "source": [
    "### Adatok előkészítése a model tanításához"
   ]
  },
  {
   "cell_type": "code",
   "execution_count": 4,
   "metadata": {},
   "outputs": [],
   "source": [
    "num_features = [\"lead_time\",\"arrival_date_week_number\",\"arrival_date_day_of_month\",\n",
    "                \"stays_in_weekend_nights\",\"stays_in_week_nights\",\"adults\",\"children\",\n",
    "                \"babies\",\"is_repeated_guest\", \"previous_cancellations\",\n",
    "                \"previous_bookings_not_canceled\",\"agent\",\"company\",\n",
    "                \"required_car_parking_spaces\", \"total_of_special_requests\", \"adr\"]\n",
    "\n",
    "cat_features = [\"hotel\", \"arrival_date_month\", \"meal\", \"country\", \"market_segment\", \n",
    "                \"distribution_channel\", \"reserved_room_type\", \"assigned_room_type\", \"customer_type\"] "
   ]
  },
  {
   "cell_type": "markdown",
   "metadata": {},
   "source": [
    "Az adatokat kétfelé szedjük számszerű és kategorikus jelleg változókra. Mivel már a vizsgálatunk elején foglalkoztunk a null változókkal így a mostani adatok előkészítésnél ezt a lépést már nem kell megcsinálnunk.\n",
    "\n",
    "Amit azonban meg kell csinálnunk az a kategorikus adatok átalakítása számszerűvé ugyanis a model csak azzal tud dolgozni.\n",
    "Két lehetőség:\n",
    "- Label Encoding: Szakdogában magyarázat\n",
    "- Dummy variables: Szakdogában magyarázat\n",
    "\n",
    "Dummy variables-t választjuk(szakdogában miért)\n",
    "\n",
    "Ezután két változóba rakjuk az adatokat X-be és y-ba. Az X-be tartoznak a jelleg változok a y-ba pedig a kimenet, hogy az adott foglalást lemondták-e vagy sem."
   ]
  },
  {
   "cell_type": "code",
   "execution_count": 5,
   "metadata": {},
   "outputs": [],
   "source": [
    "X = data.drop([\"is_canceled\"], axis=1)[num_features + cat_features]\n",
    "X = pd.get_dummies(X)\n",
    "y = data[\"is_canceled\"]"
   ]
  },
  {
   "cell_type": "markdown",
   "metadata": {},
   "source": [
    "Majd train és test részekre kell szétválogatni. Erre azért van szükség hogy mikor teszteljük a modelt, hogy milyen a pontossága olyan adatokat lásson amit a tanítás során még nem látott. A teljes adat 25%-át fogom tesztelési célra szánni."
   ]
  },
  {
   "cell_type": "code",
   "execution_count": 6,
   "metadata": {},
   "outputs": [],
   "source": [
    "X_train, X_test, y_train, y_test = train_test_split(X, y, test_size=0.25, random_state=10)"
   ]
  },
  {
   "cell_type": "markdown",
   "metadata": {},
   "source": [
    "### Decision Tree Classifier"
   ]
  },
  {
   "cell_type": "code",
   "execution_count": 7,
   "metadata": {},
   "outputs": [
    {
     "name": "stdout",
     "output_type": "stream",
     "text": [
      "              precision    recall  f1-score   support\n",
      "\n",
      "           0       0.88      0.89      0.88     18788\n",
      "           1       0.81      0.80      0.80     11060\n",
      "\n",
      "    accuracy                           0.85     29848\n",
      "   macro avg       0.84      0.84      0.84     29848\n",
      "weighted avg       0.85      0.85      0.85     29848\n",
      "\n",
      "[[16649  2139]\n",
      " [ 2218  8842]]\n"
     ]
    }
   ],
   "source": [
    "dtree = DecisionTreeClassifier()\n",
    "dtree.fit(X_train, y_train)\n",
    "y_dtree_pred=dtree.predict(X_test)\n",
    "print(classification_report(y_test, y_dtree_pred))\n",
    "print(confusion_matrix(y_test, y_dtree_pred))"
   ]
  },
  {
   "cell_type": "markdown",
   "metadata": {},
   "source": [
    "### Random Forest Classifier"
   ]
  },
  {
   "cell_type": "code",
   "execution_count": 8,
   "metadata": {},
   "outputs": [
    {
     "name": "stdout",
     "output_type": "stream",
     "text": [
      "              precision    recall  f1-score   support\n",
      "\n",
      "           0       0.88      0.94      0.91     18788\n",
      "           1       0.88      0.79      0.83     11060\n",
      "\n",
      "    accuracy                           0.88     29848\n",
      "   macro avg       0.88      0.86      0.87     29848\n",
      "weighted avg       0.88      0.88      0.88     29848\n",
      "\n",
      "[[17644  1144]\n",
      " [ 2332  8728]]\n"
     ]
    }
   ],
   "source": [
    "rforest = RandomForestClassifier()\n",
    "rforest.fit(X_train, y_train)\n",
    "y_rforest_pred=rforest.predict(X_test)\n",
    "print(classification_report(y_test, y_rforest_pred))\n",
    "print(confusion_matrix(y_test, y_rforest_pred))"
   ]
  },
  {
   "cell_type": "markdown",
   "metadata": {},
   "source": [
    "### Logistic Regression"
   ]
  },
  {
   "cell_type": "code",
   "execution_count": 9,
   "metadata": {},
   "outputs": [
    {
     "name": "stdout",
     "output_type": "stream",
     "text": [
      "              precision    recall  f1-score   support\n",
      "\n",
      "           0       0.82      0.88      0.85     18788\n",
      "           1       0.77      0.66      0.71     11060\n",
      "\n",
      "    accuracy                           0.80     29848\n",
      "   macro avg       0.79      0.77      0.78     29848\n",
      "weighted avg       0.80      0.80      0.80     29848\n",
      "\n",
      "[[16589  2199]\n",
      " [ 3745  7315]]\n"
     ]
    }
   ],
   "source": [
    "logisticreg = LogisticRegression()\n",
    "logisticreg.fit(X_train, y_train)\n",
    "y_logisticreg_pred=logisticreg.predict(X_test)\n",
    "print(classification_report(y_test, y_logisticreg_pred))\n",
    "print(confusion_matrix(y_test, y_logisticreg_pred))"
   ]
  },
  {
   "cell_type": "markdown",
   "metadata": {},
   "source": [
    "### K-nearest Neighbour Classifier"
   ]
  },
  {
   "cell_type": "code",
   "execution_count": 10,
   "metadata": {},
   "outputs": [
    {
     "name": "stdout",
     "output_type": "stream",
     "text": [
      "              precision    recall  f1-score   support\n",
      "\n",
      "           0       0.80      0.85      0.82     18788\n",
      "           1       0.72      0.63      0.67     11060\n",
      "\n",
      "    accuracy                           0.77     29848\n",
      "   macro avg       0.76      0.74      0.75     29848\n",
      "weighted avg       0.77      0.77      0.77     29848\n",
      "\n",
      "[[16024  2764]\n",
      " [ 4061  6999]]\n"
     ]
    }
   ],
   "source": [
    "neigh = KNeighborsClassifier()\n",
    "neigh.fit(X_train, y_train)\n",
    "y_neigh_pred=neigh.predict(X_test)\n",
    "print(classification_report(y_test, y_neigh_pred))\n",
    "print(confusion_matrix(y_test, y_neigh_pred))"
   ]
  },
  {
   "cell_type": "markdown",
   "metadata": {},
   "source": [
    "### Gradient Boosting Classifier"
   ]
  },
  {
   "cell_type": "code",
   "execution_count": 11,
   "metadata": {},
   "outputs": [
    {
     "name": "stdout",
     "output_type": "stream",
     "text": [
      "              precision    recall  f1-score   support\n",
      "\n",
      "           0       0.85      0.90      0.88     18788\n",
      "           1       0.82      0.74      0.77     11060\n",
      "\n",
      "    accuracy                           0.84     29848\n",
      "   macro avg       0.84      0.82      0.83     29848\n",
      "weighted avg       0.84      0.84      0.84     29848\n",
      "\n",
      "[[16958  1830]\n",
      " [ 2908  8152]]\n"
     ]
    }
   ],
   "source": [
    "gdclf = GradientBoostingClassifier()\n",
    "gdclf.fit(X_train, y_train)\n",
    "y_gdclf_pred=gdclf.predict(X_test)\n",
    "print(classification_report(y_test, y_gdclf_pred))\n",
    "print(confusion_matrix(y_test, y_gdclf_pred))"
   ]
  }
 ],
 "metadata": {
  "kernelspec": {
   "display_name": "Python 3",
   "language": "python",
   "name": "python3"
  },
  "language_info": {
   "codemirror_mode": {
    "name": "ipython",
    "version": 3
   },
   "file_extension": ".py",
   "mimetype": "text/x-python",
   "name": "python",
   "nbconvert_exporter": "python",
   "pygments_lexer": "ipython3",
   "version": "3.8.5"
  }
 },
 "nbformat": 4,
 "nbformat_minor": 4
}
