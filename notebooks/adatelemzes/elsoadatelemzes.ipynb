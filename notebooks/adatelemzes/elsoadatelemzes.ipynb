{
 "cells": [
  {
   "cell_type": "code",
   "execution_count": 67,
   "metadata": {},
   "outputs": [],
   "source": [
    "import numpy as np\n",
    "import seaborn as sns\n",
    "import pandas as pd\n",
    "import matplotlib.pyplot as plt\n",
    "from datetime import date"
   ]
  },
  {
   "cell_type": "code",
   "execution_count": 2,
   "metadata": {},
   "outputs": [],
   "source": [
    "data = pd.read_csv(\"hotel_bookings.csv\")"
   ]
  },
  {
   "cell_type": "code",
   "execution_count": 6,
   "metadata": {},
   "outputs": [],
   "source": [
    "#Feltáró adatelemzés megkezdése\n",
    "#NÉHÁNY MONDAT EZ MIÉRT FONTOS\n",
    "#Néhány személyes gondolat amik szerintem a legjobban fogják befolyásolni azt, hogy az adott foglalást le fogják-e mondani"
   ]
  },
  {
   "cell_type": "code",
   "execution_count": 7,
   "metadata": {},
   "outputs": [
    {
     "data": {
      "text/html": [
       "<div>\n",
       "<style scoped>\n",
       "    .dataframe tbody tr th:only-of-type {\n",
       "        vertical-align: middle;\n",
       "    }\n",
       "\n",
       "    .dataframe tbody tr th {\n",
       "        vertical-align: top;\n",
       "    }\n",
       "\n",
       "    .dataframe thead th {\n",
       "        text-align: right;\n",
       "    }\n",
       "</style>\n",
       "<table border=\"1\" class=\"dataframe\">\n",
       "  <thead>\n",
       "    <tr style=\"text-align: right;\">\n",
       "      <th></th>\n",
       "      <th>lead_time</th>\n",
       "    </tr>\n",
       "    <tr>\n",
       "      <th>is_canceled</th>\n",
       "      <th></th>\n",
       "    </tr>\n",
       "  </thead>\n",
       "  <tbody>\n",
       "    <tr>\n",
       "      <th>0</th>\n",
       "      <td>79.984687</td>\n",
       "    </tr>\n",
       "    <tr>\n",
       "      <th>1</th>\n",
       "      <td>144.848815</td>\n",
       "    </tr>\n",
       "  </tbody>\n",
       "</table>\n",
       "</div>"
      ],
      "text/plain": [
       "              lead_time\n",
       "is_canceled            \n",
       "0             79.984687\n",
       "1            144.848815"
      ]
     },
     "execution_count": 7,
     "metadata": {},
     "output_type": "execute_result"
    }
   ],
   "source": [
    "#Minél hamarabb foglalja a vendég a szállást annál nagyobb valószínűséggel fogja lemondani\n",
    "#Nézzük is meg, hogy a rendelkezésre álló adatok alátámasztják-e a gondolatmenetemet.\n",
    "pd.pivot_table(data, values = \"lead_time\", index = \"is_canceled\") "
   ]
  },
  {
   "cell_type": "code",
   "execution_count": 8,
   "metadata": {},
   "outputs": [],
   "source": [
    "#1 azt mutatja, hogy a foglalást lemondták, a 0 pedig azt, hogy nem.\n",
    "#Mint láthatjuk a lemondott foglalásokat körülbelül kétszer hamarabb foglalták mint azokat amiket nem mondtak le.\n",
    "#Így levonhatjuk azt a következtetést, hogy minél nagyobb a lead_time-ja egy foglalásnak, annál nagyobb a valőszínűsége, hogy le fogják azt mondani."
   ]
  },
  {
   "cell_type": "code",
   "execution_count": 38,
   "metadata": {},
   "outputs": [
    {
     "name": "stdout",
     "output_type": "stream",
     "text": [
      "Only week night  0.38 is cancelled\n",
      "Only weekend night  0.25 is cancelled\n"
     ]
    }
   ],
   "source": [
    "#Következőnek azok között a foglalások között érdekelne a lemondási arány amiket az emberek csak hétvégére és csak hétköznapokra foglaltak.\n",
    "only_week_night = data.loc[data[\"stays_in_weekend_nights\"] == 0, \"stays_in_week_nights\"].count()\n",
    "only_weekend_night = data.loc[data[\"stays_in_week_nights\"] == 0, \"stays_in_weekend_nights\"].count()\n",
    "only_week_night_no_cancel = data.loc[(data[\"stays_in_weekend_nights\"] == 0) & (data[\"is_canceled\"] == 0), \"stays_in_week_nights\"].count()\n",
    "only_weekend_night_no_cancel = data.loc[(data[\"stays_in_week_nights\"] == 0) & (data[\"is_canceled\"] == 0), \"stays_in_weekend_nights\"].count()\n",
    "print(\"Only week night {: .2f} is cancelled\".format(1-(only_week_night_no_cancel/only_week_night)))\n",
    "print(\"Only weekend night {: .2f} is cancelled\".format(1-(only_weekend_night_no_cancel/only_weekend_night)))"
   ]
  },
  {
   "cell_type": "code",
   "execution_count": 17,
   "metadata": {},
   "outputs": [],
   "source": [
    "#13%-kal kevesebb foglalást mondanak le a hétvégéken.\n",
    "#Valószínűleg azért mert az embereknek a hétköznapokban munka vagy akármilyen más ügyei lehetnek amik miatt le kell mondani a foglalást. Akár egyik napról a másikra is.\n",
    "#Ez gondot jelent a szállodáknak ugyanis minél később mondja le a foglalását egy vendég annál kevesebb ideje van eladni újra a szobát.\n",
    "#KÖVETKEZŐNEK FOGOM MEGNÉZNI: Olyan szempontból, hogy hány százalékát mondják le ezeknek a foglalásoknak hirtelen(1-2 nappal az érkezés előtt).\n",
    "#Az emberek jobban ráérnek a hétvégéken. ÁLTALÁNOS FELVETÉS"
   ]
  },
  {
   "cell_type": "code",
   "execution_count": 54,
   "metadata": {},
   "outputs": [],
   "source": [
    "canceled_info=data[data[\"reservation_status\"]==\"Canceled\"]\n",
    "#Most meg van az összes olyan foglalásunk amiket lemondtak. Ezek közül kell kiválogatni azokat a foglalásokat amiket csak hétköznapokra foglaltak.\n",
    "canceled_info_week_night = canceled_info[canceled_info[\"stays_in_weekend_nights\"]==0]\n",
    "#Meg van az összes lemondott hétköznapi foglalás"
   ]
  },
  {
   "cell_type": "code",
   "execution_count": 65,
   "metadata": {},
   "outputs": [],
   "source": [
    "def month_to_number(string):\n",
    "    if row[\"arrival_date_month\"] == \"January\":\n",
    "        return 1\n",
    "    elif row[\"arrival_date_month\"] == \"February\":\n",
    "        return 2\n",
    "    elif row[\"arrival_date_month\"] == \"March\":\n",
    "        return 3\n",
    "    elif row[\"arrival_date_month\"] == \"April\":\n",
    "        return 4\n",
    "    elif row[\"arrival_date_month\"] == \"May\":\n",
    "        return 5\n",
    "    elif row[\"arrival_date_month\"] == \"June\":\n",
    "        return 6\n",
    "    elif row[\"arrival_date_month\"] == \"July\":\n",
    "        return 7\n",
    "    elif row[\"arrival_date_month\"] == \"August\":\n",
    "        return 8\n",
    "    elif row[\"arrival_date_month\"] == \"September\":\n",
    "        return 9\n",
    "    elif row[\"arrival_date_month\"] == \"October\":\n",
    "        return 10\n",
    "    elif row[\"arrival_date_month\"] == \"November\":\n",
    "        return 11\n",
    "    else:\n",
    "        return 12"
   ]
  },
  {
   "cell_type": "code",
   "execution_count": 89,
   "metadata": {},
   "outputs": [
    {
     "name": "stdout",
     "output_type": "stream",
     "text": [
      "A foglalások  0.06 van legfeljebb 2 nappal érkezés előtt lemondva\n"
     ]
    }
   ],
   "source": [
    "#Most meg kell számolni az összes olyan foglalást amit legfeljebb 2 nappal az érkezés előtt mondtak le.\n",
    "less_than_2_count = 0\n",
    "for index, row in canceled_info_week_night.iterrows():\n",
    "    arrival_year = row[\"arrival_date_year\"]\n",
    "    arrival_month = month_to_number(row[\"arrival_date_month\"])\n",
    "    arrival_day = row[\"arrival_date_day_of_month\"]\n",
    "    status_change = row[\"reservation_status_date\"].split(\"-\")\n",
    "    arrival_date = date(arrival_year, arrival_month, arrival_day)\n",
    "    change_date = date(int(status_change[0]), int(status_change[1]), int(status_change[2]))\n",
    "    if (arrival_date-change_date).days < 3:\n",
    "        less_than_2_count+=1\n",
    "print(\"A foglalások {: .2f} van legfeljebb 2 nappal érkezés előtt lemondva\".format(less_than_2_count/len(canceled_info_week_night)))"
   ]
  },
  {
   "cell_type": "code",
   "execution_count": null,
   "metadata": {},
   "outputs": [],
   "source": [
    "#Csupán a foglalások 6%-a van legfeljebb 2 nappal érkezés előtt lemondva.\n",
    "#Ezáltal az ezekben a szállodákban foglalt vendégeknek csupán töredékének kellett hirtelen lemondani a foglalását.\n",
    "#Mivel a foglalásoknak kis része tartozik ebbe, nem lehet egyáltalán azt állítani, hogy egy hétköznapi foglalásnál minél közelebb kerülünk az érkezés dátumához annál nagyobb valószínűséggel mondanák le a foglalást."
   ]
  },
  {
   "cell_type": "code",
   "execution_count": null,
   "metadata": {},
   "outputs": [],
   "source": []
  }
 ],
 "metadata": {
  "kernelspec": {
   "display_name": "Python 3",
   "language": "python",
   "name": "python3"
  },
  "language_info": {
   "codemirror_mode": {
    "name": "ipython",
    "version": 3
   },
   "file_extension": ".py",
   "mimetype": "text/x-python",
   "name": "python",
   "nbconvert_exporter": "python",
   "pygments_lexer": "ipython3",
   "version": "3.8.5"
  }
 },
 "nbformat": 4,
 "nbformat_minor": 4
}
